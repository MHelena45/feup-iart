{
 "cells": [
  {
   "cell_type": "code",
   "execution_count": 1,
   "metadata": {},
   "outputs": [],
   "source": [
    "#!pip install numpy\n",
    "#!pip install gym\n",
    "#!pip install -e gym-zhed"
   ]
  },
  {
   "cell_type": "code",
   "execution_count": 2,
   "metadata": {},
   "outputs": [],
   "source": [
    "import gym\n",
    "import gym_zhed\n",
    "import numpy as np\n",
    "import random\n",
    "import matplotlib.pyplot as plt"
   ]
  },
  {
   "cell_type": "code",
   "execution_count": 3,
   "metadata": {},
   "outputs": [
    {
     "name": "stdout",
     "output_type": "stream",
     "text": [
      "Environment initialized\n",
      "|   |   | 2 |   |   | G | \n",
      "|   |   |   |   |   |   | \n",
      "| 2 |   |   |   |   |   | \n",
      "|   | 1 |   | 2 |   |   | \n",
      "\n"
     ]
    }
   ],
   "source": [
    "level = 5\n",
    "env = gym.make('zhedLevel' + str(level) + '-v0')\n",
    "env.render()"
   ]
  },
  {
   "cell_type": "code",
   "execution_count": 4,
   "metadata": {},
   "outputs": [
    {
     "name": "stdout",
     "output_type": "stream",
     "text": [
      "Action size: 16; State size: 6145\n"
     ]
    }
   ],
   "source": [
    "state_size = env.observation_space.n\n",
    "action_size = env.action_space.n\n",
    "print(f'Action size: {action_size}; State size: {state_size}')"
   ]
  },
  {
   "cell_type": "code",
   "execution_count": 5,
   "metadata": {},
   "outputs": [
    {
     "name": "stdout",
     "output_type": "stream",
     "text": [
      "[[0. 0. 0. ... 0. 0. 0.]\n",
      " [0. 0. 0. ... 0. 0. 0.]\n",
      " [0. 0. 0. ... 0. 0. 0.]\n",
      " ...\n",
      " [0. 0. 0. ... 0. 0. 0.]\n",
      " [0. 0. 0. ... 0. 0. 0.]\n",
      " [0. 0. 0. ... 0. 0. 0.]]\n"
     ]
    }
   ],
   "source": [
    "qtable = np.zeros((state_size, action_size))\n",
    "print(qtable)"
   ]
  },
  {
   "cell_type": "code",
   "execution_count": 6,
   "metadata": {},
   "outputs": [],
   "source": [
    "# @hyperparameters\n",
    "total_episodes = 50000      # Total episodes\n",
    "learning_rate = 0.01        # Learning rate\n",
    "max_steps = 100             # Max steps per episode\n",
    "gamma = 0.99                # Discounting rate\n",
    "\n",
    "# Exploration parameters\n",
    "epsilon = 1.0                 # Exploration rate\n",
    "max_epsilon = 1.0             # Exploration probability at start\n",
    "min_epsilon = 0.1            # Minimum exploration probability \n",
    "decay_rate = 0.001             # Exponential decay rate for exploration prob"
   ]
  },
  {
   "cell_type": "code",
   "execution_count": 7,
   "metadata": {},
   "outputs": [
    {
     "name": "stdout",
     "output_type": "stream",
     "text": [
      "Score over time: 128.3166\n",
      "[[ 874.03232316   -5.83652362   -7.94985151 ...  -24.66322638\n",
      "   871.63070773  -49.93146163]\n",
      " [ -56.89915349  -56.47315338  -54.53476982 ...  -39.6576486\n",
      "   -30.07423813  -30.08057751]\n",
      " [ -46.56216249  -46.44803921  -46.53102129 ... -141.10629298\n",
      "   -98.71681676 -133.73148053]\n",
      " ...\n",
      " [   0.            0.            0.         ...    0.\n",
      "     0.            0.        ]\n",
      " [   0.            0.            0.         ...    0.\n",
      "     0.            0.        ]\n",
      " [   0.            0.            0.         ...    0.\n",
      "     0.            0.        ]]\n",
      "0.1\n"
     ]
    }
   ],
   "source": [
    "rewards = []\n",
    "\n",
    "for episode in range(total_episodes):\n",
    "    state = env.reset()\n",
    "    step = 0\n",
    "    done = False\n",
    "    total_rewards = 0\n",
    "    \n",
    "    #print(f'First state: {state}')\n",
    "    for step in range(max_steps):\n",
    "        exp_exp_tradeoff = random.uniform(0, 1)\n",
    "    \n",
    "        if exp_exp_tradeoff > epsilon:\n",
    "            action = np.argmax(qtable[state, :]) #exploitation\n",
    "        else:\n",
    "            action = env.action_space.sample() #exploration\n",
    "        \n",
    "        new_state, reward, done, info = env.step(action) #take action and observe results\n",
    "        #print(f'new_state: {new_state}; reward: {reward}; done: {done}; info: {info}')\n",
    "\n",
    "        #updating the table using Bellman Equation\n",
    "        qtable[state, action] = qtable[state, action] + learning_rate * (reward + gamma * np.max(qtable[new_state, :]) - qtable[state, action])\n",
    "        #cumulative rewards until now\n",
    "        total_rewards = total_rewards + reward\n",
    "\n",
    "        state = new_state\n",
    "        if done == True:\n",
    "            #print('Done')\n",
    "            break\n",
    "\n",
    "    episode += 1\n",
    "    #reducing exploration rate\n",
    "    epsilon = min_epsilon + (max_epsilon - min_epsilon) * np.exp(-decay_rate * episode)\n",
    "    rewards.append(total_rewards)\n",
    "\n",
    "print(\"Score over time: \" +  str(sum(rewards) / total_episodes))\n",
    "print(qtable)\n",
    "print(epsilon)"
   ]
  },
  {
   "cell_type": "code",
   "execution_count": 8,
   "metadata": {},
   "outputs": [
    {
     "name": "stdout",
     "output_type": "stream",
     "text": [
      "|   |   | 2 |   |   | G | \n",
      "|   |   |   |   |   |   | \n",
      "| 2 |   |   |   |   |   | \n",
      "|   | 1 |   | 2 |   |   | \n",
      "\n",
      "|   |   | 2 |   |   | G | \n",
      "|   |   |   |   |   |   | \n",
      "| 2 | X |   |   |   |   | \n",
      "|   | X |   | 2 |   |   | \n",
      "\n",
      "|   |   | 2 |   |   | G | \n",
      "|   |   |   |   |   |   | \n",
      "| X | X | X | X |   |   | \n",
      "|   | X |   | 2 |   |   | \n",
      "\n",
      "|   |   | 2 | X |   | G | \n",
      "|   |   |   | X |   |   | \n",
      "| X | X | X | X |   |   | \n",
      "|   | X |   | X |   |   | \n",
      "\n",
      "|   |   | X | X | X | X | \n",
      "|   |   |   | X |   |   | \n",
      "| X | X | X | X |   |   | \n",
      "|   | X |   | X |   |   | \n",
      "\n"
     ]
    }
   ],
   "source": [
    "state = env.reset()\n",
    "step = 0\n",
    "done = False\n",
    "env.render()\n",
    "    \n",
    "for step in range(max_steps):\n",
    "    action = np.argmax(qtable[state,:])\n",
    "\n",
    "    new_state, reward, done, info = env.step(action)\n",
    "\n",
    "    env.render()\n",
    "        \n",
    "    state = new_state\n",
    "    if done:\n",
    "        break"
   ]
  },
  {
   "cell_type": "code",
   "execution_count": 9,
   "metadata": {},
   "outputs": [
    {
     "data": {
      "image/png": "[encoded data removed]",
      "text/plain": [
       "<Figure size 432x288 with 1 Axes>"
      ]
     },
     "metadata": {
      "needs_background": "light"
     },
     "output_type": "display_data"
    }
   ],
   "source": [
    "x_axis = [episode for episode in range(total_episodes)]\n",
    "\n",
    "y_axis = []\n",
    "acc = 0\n",
    "for reward in rewards:\n",
    "    acc += reward\n",
    "    y_axis.append(acc)\n",
    "\n",
    "plt.title('Level ' + str(level))\n",
    "plt.xlabel('episode')\n",
    "plt.ylabel('rewards')\n",
    "plt.plot(x_axis, y_axis)\n",
    "plt.savefig('graphs/level' + str(level) + '-Q.png')"
   ]
  },
  {
   "cell_type": "code",
   "execution_count": null,
   "metadata": {},
   "outputs": [],
   "source": []
  }
 ],
 "metadata": {
  "kernelspec": {
   "display_name": "Python 3",
   "language": "python",
   "name": "python3"
  },
  "language_info": {
   "codemirror_mode": {
    "name": "ipython",
    "version": 3
   },
   "file_extension": ".py",
   "mimetype": "text/x-python",
   "name": "python",
   "nbconvert_exporter": "python",
   "pygments_lexer": "ipython3",
   "version": "3.7.6"
  }
 },
 "nbformat": 4,
 "nbformat_minor": 4
}
