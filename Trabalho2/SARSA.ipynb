{
 "cells": [
  {
   "cell_type": "code",
   "execution_count": 1,
   "metadata": {},
   "outputs": [],
   "source": [
    "import gym\n",
    "import gym_zhed\n",
    "import numpy as np\n",
    "import random\n",
    "import matplotlib.pyplot as plt"
   ]
  },
  {
   "cell_type": "code",
   "execution_count": 2,
   "metadata": {},
   "outputs": [
    {
     "name": "stdout",
     "output_type": "stream",
     "text": [
      "Environment initialized\n",
      "|   |   | 2 |   |   | G | \n",
      "|   |   |   |   |   |   | \n",
      "| 2 |   |   |   |   |   | \n",
      "|   | 1 |   | 2 |   |   | \n",
      "\n"
     ]
    }
   ],
   "source": [
    "level = 5\n",
    "env = gym.make('zhedLevel' + str(level) + '-v0')\n",
    "env.render()"
   ]
  },
  {
   "cell_type": "code",
   "execution_count": 3,
   "metadata": {},
   "outputs": [],
   "source": [
    "#Initializing the Q-matrix \n",
    "Q = np.zeros((env.observation_space.n, env.action_space.n)) "
   ]
  },
  {
   "cell_type": "code",
   "execution_count": 4,
   "metadata": {},
   "outputs": [],
   "source": [
    "#Function to choose the next action \n",
    "def choose_action(state): \n",
    "    action=0\n",
    "    if np.random.uniform(0, 1) < epsilon: \n",
    "        action = env.action_space.sample() \n",
    "    else: \n",
    "        action = np.argmax(Q[state, :])\n",
    "    return action \n",
    "  \n",
    "#Function to learn the Q-value \n",
    "def update(state, state2, reward, action, action2): \n",
    "    predict = Q[state, action] \n",
    "    target = reward + gamma * Q[state2, action2] \n",
    "    Q[state, action] = Q[state, action] + alpha * (target - predict) "
   ]
  },
  {
   "cell_type": "code",
   "execution_count": 5,
   "metadata": {},
   "outputs": [],
   "source": [
    "#Defining the different parameters \n",
    "total_episodes = 50000\n",
    "max_steps = 1000\n",
    "alpha = 0.01\n",
    "gamma = 0.99\n",
    "\n",
    "# Exploration parameters\n",
    "epsilon = 1.0                 # Exploration rate\n",
    "max_epsilon = 1.0             # Exploration probability at start\n",
    "min_epsilon = 0.1            # Minimum exploration probability \n",
    "decay_rate = 0.01             # Exponential decay rate for exploration prob"
   ]
  },
  {
   "cell_type": "code",
   "execution_count": null,
   "metadata": {},
   "outputs": [],
   "source": [
    "#Initializing the reward \n",
    "rewards=[]\n",
    "  \n",
    "# Starting the SARSA learning \n",
    "for episode in range(total_episodes): \n",
    "    t = 0\n",
    "    episode_reward = 0\n",
    "    state1 = env.reset() \n",
    "    action1 = choose_action(state1) \n",
    "  \n",
    "    while t < max_steps: \n",
    "        #Visualizing the training \n",
    "        #env.render(episode) \n",
    "          \n",
    "        #Getting the next state \n",
    "        state2, reward, done, info = env.step(action1) \n",
    "  \n",
    "        #Choosing the next action \n",
    "        action2 = choose_action(state2) \n",
    "          \n",
    "        #Learning the Q-value \n",
    "        update(state1, state2, reward, action1, action2) \n",
    "  \n",
    "        state1 = state2 \n",
    "        action1 = action2 \n",
    "          \n",
    "        #Updating the respective vaLues \n",
    "        t += 1\n",
    "        episode_reward += reward\n",
    "          \n",
    "        #If at the end of learning process \n",
    "        if done: \n",
    "            break\n",
    "    \n",
    "    episode += 1\n",
    "    #reducing exploration rate\n",
    "    epsilon = min_epsilon + (max_epsilon - min_epsilon) * np.exp(-decay_rate * episode)\n",
    "    rewards.append(episode_reward)"
   ]
  },
  {
   "cell_type": "code",
   "execution_count": null,
   "metadata": {},
   "outputs": [],
   "source": [
    "#Evaluating the performance \n",
    "print (\"Performace : \", reward/total_episodes) \n",
    "  \n",
    "#Visualizing the Q-matrix \n",
    "print(Q) "
   ]
  },
  {
   "cell_type": "code",
   "execution_count": null,
   "metadata": {},
   "outputs": [],
   "source": [
    "state = env.reset()\n",
    "step = 0\n",
    "done = False\n",
    "env.render()\n",
    "    \n",
    "for step in range(max_steps):\n",
    "    action = np.argmax(Q[state,:])\n",
    "\n",
    "    new_state, reward, done, info = env.step(action)\n",
    "\n",
    "    env.render()\n",
    "    \n",
    "    state = new_state\n",
    "    if done:\n",
    "        break"
   ]
  },
  {
   "cell_type": "code",
   "execution_count": null,
   "metadata": {},
   "outputs": [],
   "source": [
    "x_axis = [episode for episode in range(total_episodes)]\n",
    "\n",
    "y_axis = []\n",
    "acc = 0\n",
    "for reward in rewards:\n",
    "    acc += reward\n",
    "    y_axis.append(acc)\n",
    "\n",
    "plt.title('Level ' + str(level))\n",
    "plt.xlabel('episode')\n",
    "plt.ylabel('rewards')\n",
    "plt.plot(x_axis, y_axis)\n",
    "plt.savefig('graphs/level' + str(level) + '-SARSA.png')"
   ]
  },
  {
   "cell_type": "code",
   "execution_count": null,
   "metadata": {},
   "outputs": [],
   "source": []
  }
 ],
 "metadata": {
  "kernelspec": {
   "display_name": "Python 3",
   "language": "python",
   "name": "python3"
  },
  "language_info": {
   "codemirror_mode": {
    "name": "ipython",
    "version": 3
   },
   "file_extension": ".py",
   "mimetype": "text/x-python",
   "name": "python",
   "nbconvert_exporter": "python",
   "pygments_lexer": "ipython3",
   "version": "3.7.6"
  }
 },
 "nbformat": 4,
 "nbformat_minor": 4
}
